{
  "metadata": {
    "kernelspec": {
      "language": "python",
      "display_name": "Python 3",
      "name": "python3"
    },
    "language_info": {
      "name": "python",
      "version": "3.10.14",
      "mimetype": "text/x-python",
      "codemirror_mode": {
        "name": "ipython",
        "version": 3
      },
      "pygments_lexer": "ipython3",
      "nbconvert_exporter": "python",
      "file_extension": ".py"
    },
    "kaggle": {
      "accelerator": "none",
      "dataSources": [
        {
          "sourceId": 10202845,
          "sourceType": "datasetVersion",
          "datasetId": 6305109
        }
      ],
      "dockerImageVersionId": 30804,
      "isInternetEnabled": true,
      "language": "python",
      "sourceType": "notebook",
      "isGpuEnabled": false
    },
    "colab": {
      "provenance": []
    }
  },
  "nbformat_minor": 0,
  "nbformat": 4,
  "cells": [
    {
      "cell_type": "markdown",
      "source": [
        "Diego Toribio <br>\n",
        "Professor Sam Keene <br>\n",
        "Frequentist Machine Learning <br>\n",
        "Project 4: Data Mining with Market Basket"
      ],
      "metadata": {
        "id": "AaNFrCrx4b3n"
      }
    },
    {
      "cell_type": "code",
      "source": [
        "!pip install mlxtend"
      ],
      "metadata": {
        "_uuid": "8f2839f25d086af736a60e9eeb907d3b93b6e0e5",
        "_cell_guid": "b1076dfc-b9ad-4769-8c92-a6c4dae69d19",
        "trusted": true,
        "execution": {
          "iopub.status.busy": "2024-12-18T01:14:42.446684Z",
          "iopub.execute_input": "2024-12-18T01:14:42.447116Z",
          "iopub.status.idle": "2024-12-18T01:14:59.747988Z",
          "shell.execute_reply.started": "2024-12-18T01:14:42.447081Z",
          "shell.execute_reply": "2024-12-18T01:14:59.746507Z"
        },
        "collapsed": true,
        "jupyter": {
          "outputs_hidden": true
        },
        "id": "xvPpXdZGu1hD",
        "outputId": "dbca2c04-35d4-42ff-91aa-a66a835f8a17",
        "colab": {
          "base_uri": "https://localhost:8080/"
        }
      },
      "outputs": [
        {
          "output_type": "stream",
          "name": "stdout",
          "text": [
            "Requirement already satisfied: mlxtend in /usr/local/lib/python3.10/dist-packages (0.23.3)\n",
            "Requirement already satisfied: scipy>=1.2.1 in /usr/local/lib/python3.10/dist-packages (from mlxtend) (1.13.1)\n",
            "Requirement already satisfied: numpy>=1.16.2 in /usr/local/lib/python3.10/dist-packages (from mlxtend) (1.26.4)\n",
            "Requirement already satisfied: pandas>=0.24.2 in /usr/local/lib/python3.10/dist-packages (from mlxtend) (2.2.2)\n",
            "Requirement already satisfied: scikit-learn>=1.3.1 in /usr/local/lib/python3.10/dist-packages (from mlxtend) (1.5.2)\n",
            "Requirement already satisfied: matplotlib>=3.0.0 in /usr/local/lib/python3.10/dist-packages (from mlxtend) (3.8.0)\n",
            "Requirement already satisfied: joblib>=0.13.2 in /usr/local/lib/python3.10/dist-packages (from mlxtend) (1.4.2)\n",
            "Requirement already satisfied: contourpy>=1.0.1 in /usr/local/lib/python3.10/dist-packages (from matplotlib>=3.0.0->mlxtend) (1.3.1)\n",
            "Requirement already satisfied: cycler>=0.10 in /usr/local/lib/python3.10/dist-packages (from matplotlib>=3.0.0->mlxtend) (0.12.1)\n",
            "Requirement already satisfied: fonttools>=4.22.0 in /usr/local/lib/python3.10/dist-packages (from matplotlib>=3.0.0->mlxtend) (4.55.3)\n",
            "Requirement already satisfied: kiwisolver>=1.0.1 in /usr/local/lib/python3.10/dist-packages (from matplotlib>=3.0.0->mlxtend) (1.4.7)\n",
            "Requirement already satisfied: packaging>=20.0 in /usr/local/lib/python3.10/dist-packages (from matplotlib>=3.0.0->mlxtend) (24.2)\n",
            "Requirement already satisfied: pillow>=6.2.0 in /usr/local/lib/python3.10/dist-packages (from matplotlib>=3.0.0->mlxtend) (11.0.0)\n",
            "Requirement already satisfied: pyparsing>=2.3.1 in /usr/local/lib/python3.10/dist-packages (from matplotlib>=3.0.0->mlxtend) (3.2.0)\n",
            "Requirement already satisfied: python-dateutil>=2.7 in /usr/local/lib/python3.10/dist-packages (from matplotlib>=3.0.0->mlxtend) (2.8.2)\n",
            "Requirement already satisfied: pytz>=2020.1 in /usr/local/lib/python3.10/dist-packages (from pandas>=0.24.2->mlxtend) (2024.2)\n",
            "Requirement already satisfied: tzdata>=2022.7 in /usr/local/lib/python3.10/dist-packages (from pandas>=0.24.2->mlxtend) (2024.2)\n",
            "Requirement already satisfied: threadpoolctl>=3.1.0 in /usr/local/lib/python3.10/dist-packages (from scikit-learn>=1.3.1->mlxtend) (3.5.0)\n",
            "Requirement already satisfied: six>=1.5 in /usr/local/lib/python3.10/dist-packages (from python-dateutil>=2.7->matplotlib>=3.0.0->mlxtend) (1.17.0)\n"
          ]
        }
      ],
      "execution_count": null
    },
    {
      "cell_type": "code",
      "source": [
        "!wget -O School_Quality_Reports_Data.csv \"https://data.cityofnewyork.us/api/views/dnpx-dfnc/rows.csv?accessType=DOWNLOAD\""
      ],
      "metadata": {
        "trusted": true,
        "execution": {
          "iopub.status.busy": "2024-12-18T03:05:40.820306Z",
          "iopub.execute_input": "2024-12-18T03:05:40.820659Z"
        },
        "id": "6GENa8Y8u1hF",
        "outputId": "1abc290b-1193-4b7d-f0df-9b62262763aa",
        "colab": {
          "base_uri": "https://localhost:8080/"
        }
      },
      "outputs": [
        {
          "output_type": "stream",
          "name": "stdout",
          "text": [
            "--2024-12-18 03:40:48--  https://data.cityofnewyork.us/api/views/dnpx-dfnc/rows.csv?accessType=DOWNLOAD\n",
            "Resolving data.cityofnewyork.us (data.cityofnewyork.us)... 35.170.133.124, 100.28.82.57, 174.129.43.10\n",
            "Connecting to data.cityofnewyork.us (data.cityofnewyork.us)|35.170.133.124|:443... connected.\n",
            "HTTP request sent, awaiting response... 200 OK\n",
            "Length: unspecified [text/csv]\n",
            "Saving to: ‘School_Quality_Reports_Data.csv’\n",
            "\n",
            "School_Quality_Repo     [      <=>           ] 151.63M  6.48MB/s    in 22s     \n",
            "\n",
            "2024-12-18 03:41:11 (7.05 MB/s) - ‘School_Quality_Reports_Data.csv’ saved [158995727]\n",
            "\n"
          ]
        }
      ],
      "execution_count": null
    },
    {
      "cell_type": "markdown",
      "source": [
        "## **Introduction**\n",
        "We analyzed NYC school performance metrics to uncover patterns and relationships between key indicators of academic success. By reframing the dataset as a market basket problem, we treated schools as \"transactions\" and performance metrics as \"items\" to identify co-occurring metrics."
      ],
      "metadata": {
        "id": "3KR6IFIju1hF"
      }
    },
    {
      "cell_type": "code",
      "source": [
        "import pandas as pd\n",
        "\n",
        "# Load the dataset\n",
        "data = pd.read_csv(\"School_Quality_Reports_Data.csv\")\n",
        "print(f\"Dataset loaded: {data.shape[0]:,} rows, {data.shape[1]} columns.\")\n",
        "\n",
        "# Remove metrics with all 'Metric Value's missing\n",
        "# Identify metrics where all 'Metric Value' entries are missing\n",
        "missing_per_metric = data.groupby(\"Metric Display Name\")[\"Metric Value\"].apply(\n",
        "    lambda x: x.isnull().all()\n",
        ")\n",
        "metrics_to_drop = missing_per_metric[missing_per_metric].index\n",
        "data_cleaned = data[~data[\"Metric Display Name\"].isin(metrics_to_drop)].copy()\n",
        "\n",
        "print(f\"Removed {len(metrics_to_drop)} metrics with all missing values.\")\n",
        "print(\n",
        "    f\"Remaining dataset: {data_cleaned.shape[0]:,} rows, {data_cleaned['Metric Display Name'].nunique()} unique metrics.\"\n",
        ")\n",
        "\n",
        "# Impute missing 'Metric Value' using the median for each metric type\n",
        "data_cleaned[\"Metric Value\"] = data_cleaned.groupby(\"Metric Display Name\")[\n",
        "    \"Metric Value\"\n",
        "].transform(lambda x: x.fillna(x.median()))\n",
        "print(\n",
        "    f\"All missing 'Metric Value' entries have been filled (remaining missing: {data_cleaned['Metric Value'].isnull().sum()}).\"\n",
        ")\n",
        "\n",
        "# Filter relevant metrics\n",
        "relevant_metrics = [\n",
        "    \"Average Student Attendance\",\n",
        "    \"Percentage of Students with 90%+ Attendance\",\n",
        "    \"Average Student Proficiency, ELA\",\n",
        "    \"Average Student Proficiency, Math\",\n",
        "    \"Average Regents Score - English (Common Core)\",\n",
        "    \"Average Regents Score - Algebra I (Common Core)\",\n",
        "]\n",
        "# Keep only rows with relevant metrics\n",
        "filtered_data = data_cleaned[data_cleaned[\"Metric Display Name\"].isin(relevant_metrics)]\n",
        "\n",
        "# Check which relevant metrics are available\n",
        "available_metrics = filtered_data[\"Metric Display Name\"].unique()\n",
        "print(\n",
        "    f\"Selected {len(available_metrics)} key metrics for analysis: {list(available_metrics)}\"\n",
        ")\n",
        "\n",
        "# Pivot dataset for analysis\n",
        "pivot_data = (\n",
        "    filtered_data.pivot_table(\n",
        "        index=\"School Name\",\n",
        "        columns=\"Metric Display Name\",\n",
        "        values=\"Metric Value\",\n",
        "        aggfunc=\"mean\",\n",
        "    )\n",
        "    .reset_index()\n",
        "    .fillna(0)\n",
        ")\n",
        "\n",
        "print(\n",
        "    f\"Final dataset shape: {pivot_data.shape[0]:,} rows (schools) x {pivot_data.shape[1]} columns (metrics).\"\n",
        ")"
      ],
      "metadata": {
        "trusted": true,
        "execution": {
          "iopub.status.busy": "2024-12-18T02:08:30.390529Z",
          "iopub.execute_input": "2024-12-18T02:08:30.391009Z",
          "iopub.status.idle": "2024-12-18T02:08:33.523459Z",
          "shell.execute_reply.started": "2024-12-18T02:08:30.390971Z",
          "shell.execute_reply": "2024-12-18T02:08:33.522287Z"
        },
        "id": "VnKLhJAKu1hF",
        "outputId": "cebeb2d6-4140-4bfc-f719-84d0bf2e4864",
        "colab": {
          "base_uri": "https://localhost:8080/"
        }
      },
      "outputs": [
        {
          "output_type": "stream",
          "name": "stdout",
          "text": [
            "Dataset loaded: 1,053,525 rows, 12 columns.\n",
            "Removed 20 metrics with all missing values.\n",
            "Remaining dataset: 1,051,906 rows, 610 unique metrics.\n",
            "All missing 'Metric Value' entries have been filled (remaining missing: 0).\n",
            "Selected 6 key metrics for analysis: ['Average Student Attendance', 'Percentage of Students with 90%+ Attendance', 'Average Student Proficiency, ELA', 'Average Student Proficiency, Math', 'Average Regents Score - English (Common Core)', 'Average Regents Score - Algebra I (Common Core)']\n",
            "Final dataset shape: 2,209 rows (schools) x 7 columns (metrics).\n"
          ]
        }
      ],
      "execution_count": null
    },
    {
      "cell_type": "markdown",
      "source": [
        "### Data Exploration and Cleaning\n",
        "- Initial dataset: **1,053,525 rows**, **12 columns**\n",
        "- After cleaning and selecting key metrics, the final dataset contains **2,209 rows (schools)** and **7 columns (metrics)**.\n",
        "\n",
        "### Key Metrics:\n",
        "1. Average Student Attendance\n",
        "2. Percentage of Students with 90%+ Attendance\n",
        "3. Average Student Proficiency, ELA\n",
        "4. Average Student Proficiency, Math\n",
        "5. Average Regents Score - English\n",
        "6. Average Regents Score - Algebra I"
      ],
      "metadata": {
        "id": "kZjsbFFJu1hG"
      }
    },
    {
      "cell_type": "markdown",
      "source": [
        "### Analyze Results"
      ],
      "metadata": {
        "id": "sH6xdidKu1hG"
      }
    },
    {
      "cell_type": "code",
      "source": [
        "import pandas as pd\n",
        "from mlxtend.frequent_patterns import apriori, association_rules\n",
        "from tabulate import tabulate\n",
        "import pandas as pd\n",
        "from mlxtend.frequent_patterns import apriori, association_rules\n",
        "from tabulate import tabulate\n",
        "\n",
        "\n",
        "\n",
        "# Define available_relevant_metrics\n",
        "available_relevant_metrics = [\n",
        "    'Average Student Attendance',\n",
        "    'Percentage of Students with 90%+ Attendance',\n",
        "    'Average Student Proficiency, ELA',\n",
        "    'Average Student Proficiency, Math',\n",
        "    'Average Regents Score - English (Common Core)',\n",
        "    'Average Regents Score - Algebra I (Common Core)'\n",
        "]\n",
        "\n",
        "# Binarize metrics based on median\n",
        "def binarize(df, column):\n",
        "    median = df[column].median()\n",
        "    return df[column].apply(lambda x: x > median)\n",
        "\n",
        "for metric in available_relevant_metrics:\n",
        "    if metric in pivot_data.columns:\n",
        "        pivot_data[metric] = binarize(pivot_data, metric)\n",
        "\n",
        "# Prepare data for Apriori algorithm\n",
        "basket_data = pivot_data.set_index('School Name').astype(bool)\n",
        "\n",
        "# Apply Apriori algorithm\n",
        "min_support = 0.1\n",
        "frequent_itemsets = apriori(basket_data, min_support=min_support, use_colnames=True)\n",
        "\n",
        "# Generate association rules\n",
        "rules = association_rules(frequent_itemsets, len(frequent_itemsets), metric=\"confidence\", min_threshold=0.7)\n",
        "rules_sorted = rules.sort_values(by='lift', ascending=False).head(5)\n",
        "\n",
        "# Output: Frequent Itemsets Table\n",
        "frequent_itemsets_table = frequent_itemsets.head(5)\n",
        "frequent_itemsets_data = [\n",
        "    [f\"{row.support:.2f}\", \", \".join(list(row.itemsets))] for _, row in frequent_itemsets_table.iterrows()\n",
        "]\n",
        "print(\"--- Frequent Itemsets ---\")\n",
        "print(tabulate(frequent_itemsets_data, headers=[\"Support\", \"Itemsets\"], tablefmt=\"grid\"))\n",
        "\n",
        "# Map Antecedents and Consequents to concise names and dynamically compute confidence\n",
        "manual_rules = [\n",
        "    [\"Regents Algebra I\", \"Regents English\", f\"{rules_sorted.iloc[0]['confidence']:.0%}\"],\n",
        "    [\"Regents English\", \"Regents Algebra I\", f\"{rules_sorted.iloc[1]['confidence']:.0%}\"],\n",
        "    [\"Attendance + Math Proficiency\", \"ELA Proficiency\", f\"{rules_sorted.iloc[2]['confidence']:.0%}\"],\n",
        "    [\"ELA Proficiency\", \"Attendance + Math Proficiency\", f\"{rules_sorted.iloc[3]['confidence']:.0%}\"],\n",
        "    [\"Math + ELA Proficiency\", \"Attendance\", f\"{rules_sorted.iloc[4]['confidence']:.0%}\"],\n",
        "]\n",
        "\n",
        "# Display Top Association Rules\n",
        "print(\"\\n--- Top Association Rules ---\")\n",
        "print(tabulate(manual_rules, headers=[\"Antecedents\", \"Consequents\", \"Confidence\"], tablefmt=\"grid\"))"
      ],
      "metadata": {
        "trusted": true,
        "execution": {
          "iopub.status.busy": "2024-12-18T02:51:51.289066Z",
          "iopub.execute_input": "2024-12-18T02:51:51.289429Z",
          "iopub.status.idle": "2024-12-18T02:51:51.330992Z",
          "shell.execute_reply.started": "2024-12-18T02:51:51.289397Z",
          "shell.execute_reply": "2024-12-18T02:51:51.329759Z"
        },
        "id": "V9u15Dqju1hG",
        "outputId": "3c886270-d32e-43b9-e194-3804209f4103",
        "colab": {
          "base_uri": "https://localhost:8080/"
        }
      },
      "outputs": [
        {
          "output_type": "stream",
          "name": "stdout",
          "text": [
            "--- Frequent Itemsets ---\n",
            "+-----------+-------------------------------------------------+\n",
            "|   Support | Itemsets                                        |\n",
            "+===========+=================================================+\n",
            "|      0.33 | Average Regents Score - Algebra I (Common Core) |\n",
            "+-----------+-------------------------------------------------+\n",
            "|      0.33 | Average Regents Score - English (Common Core)   |\n",
            "+-----------+-------------------------------------------------+\n",
            "|      0.5  | Average Student Attendance                      |\n",
            "+-----------+-------------------------------------------------+\n",
            "|      0.5  | Average Student Proficiency, ELA                |\n",
            "+-----------+-------------------------------------------------+\n",
            "|      0.5  | Average Student Proficiency, Math               |\n",
            "+-----------+-------------------------------------------------+\n",
            "\n",
            "--- Top Association Rules ---\n",
            "+-------------------------------+-------------------------------+--------------+\n",
            "| Antecedents                   | Consequents                   | Confidence   |\n",
            "+===============================+===============================+==============+\n",
            "| Regents Algebra I             | Regents English               | 98%          |\n",
            "+-------------------------------+-------------------------------+--------------+\n",
            "| Regents English               | Regents Algebra I             | 99%          |\n",
            "+-------------------------------+-------------------------------+--------------+\n",
            "| Attendance + Math Proficiency | ELA Proficiency               | 91%          |\n",
            "+-------------------------------+-------------------------------+--------------+\n",
            "| ELA Proficiency               | Attendance + Math Proficiency | 90%          |\n",
            "+-------------------------------+-------------------------------+--------------+\n",
            "| Math + ELA Proficiency        | Attendance                    | 90%          |\n",
            "+-------------------------------+-------------------------------+--------------+\n"
          ]
        }
      ],
      "execution_count": null
    },
    {
      "cell_type": "markdown",
      "source": [
        "### On Analysis of Results\n",
        "\n",
        "**Observations**\n",
        "\n",
        "   - **Core Subjects Are Connected**:   Schools excelling in *Regents Algebra I* almost always perform well in *Regents English* and vice versa.  \n",
        "\n",
        "   - **Attendance Drives Academic Success**:  High *attendance*, combined with proficiency in *Math* and *ELA*, is a strong indicator of overall academic performance.\n",
        "  \n",
        "   - **Mutual Success in Math and ELA Reinforces Engagement**: Schools with high proficiency in both *Math* and **ELA** tend to maintain *high attendance rates*, creating a positive feedback loop."
      ],
      "metadata": {
        "id": "-0exNfX-u1hG"
      }
    },
    {
      "cell_type": "markdown",
      "source": [
        "\n",
        "## **Parameter Selection**\n",
        "- **Min Support = 0.1**: Ensures frequent itemsets appear in at least 10% of schools.\n",
        "- **Min Confidence = 0.7**: Ensures association rules have high reliability.\n"
      ],
      "metadata": {
        "id": "QgmXhbjQu1hG"
      }
    },
    {
      "cell_type": "code",
      "source": [
        "# Binarize metrics based on median\n",
        "for metric in available_relevant_metrics:\n",
        "    if metric in pivot_data.columns:\n",
        "        pivot_data[metric] = pivot_data[metric] > pivot_data[metric].median()\n",
        "\n",
        "# Prepare data for Apriori algorithm\n",
        "basket_data = pivot_data.set_index('School Name').astype(bool)\n",
        "\n",
        "# Apply Apriori algorithm\n",
        "min_support = 0.1\n",
        "print(f\"Running Apriori algorithm with min_support={min_support}...\")\n",
        "frequent_itemsets = apriori(basket_data, min_support=min_support, use_colnames=True)\n",
        "\n",
        "# Extract and display top 5 frequent itemsets\n",
        "top_itemsets = frequent_itemsets.sort_values(by='support', ascending=False).head(5)\n",
        "itemsets_data = [[f\"{row.support:.2f}\", \", \".join(map(str, row.itemsets))] for _, row in top_itemsets.iterrows()]\n",
        "\n",
        "# Generate association rules\n",
        "min_confidence = 0.7\n",
        "print(f\"\\nGenerating association rules with min_confidence={min_confidence}...\")\n",
        "rules = association_rules(frequent_itemsets, len(frequent_itemsets), metric=\"confidence\", min_threshold=min_confidence)\n",
        "rules_sorted = rules.sort_values(by='lift', ascending=False).head(5)\n",
        "\n",
        "# Manually map Antecedents and Consequents to shorter names with actual confidence percentages\n",
        "manual_rules = [\n",
        "    [\"Regents Algebra I\", \"Regents English\", f\"{rules_sorted.iloc[0]['confidence']:.0%}\"],\n",
        "    [\"Regents English\", \"Regents Algebra I\", f\"{rules_sorted.iloc[1]['confidence']:.0%}\"],\n",
        "    [\"Attendance + Math Proficiency\", \"ELA Proficiency\", f\"{rules_sorted.iloc[2]['confidence']:.0%}\"],\n",
        "    [\"ELA Proficiency\", \"Attendance + Math Proficiency\", f\"{rules_sorted.iloc[3]['confidence']:.0%}\"],\n",
        "    [\"Math + ELA Proficiency\", \"Attendance\", f\"{rules_sorted.iloc[4]['confidence']:.0%}\"],\n",
        "]\n",
        "\n",
        "# Display Outputs\n",
        "print(\"\\n--- Top 5 Frequent Itemsets ---\")\n",
        "print(tabulate(itemsets_data, headers=[\"Support\", \"Itemsets\"], tablefmt=\"grid\"))\n",
        "\n",
        "print(\"\\n--- Top Association Rules ---\")\n",
        "print(tabulate(manual_rules, headers=[\"Antecedents\", \"Consequents\", \"Confidence\"], tablefmt=\"grid\"))\n",
        "\n",
        "print(\"\\n\")\n",
        "print(f\"Total Frequent Itemsets: {len(frequent_itemsets)}\")\n",
        "print(f\"Total Association Rules: {len(rules)}\")"
      ],
      "metadata": {
        "trusted": true,
        "execution": {
          "iopub.status.busy": "2024-12-18T02:52:28.056965Z",
          "iopub.execute_input": "2024-12-18T02:52:28.057384Z",
          "iopub.status.idle": "2024-12-18T02:52:28.091383Z",
          "shell.execute_reply.started": "2024-12-18T02:52:28.057352Z",
          "shell.execute_reply": "2024-12-18T02:52:28.090092Z"
        },
        "id": "bFRVppAku1hG",
        "outputId": "85e6107a-58c6-412e-c66f-ec5fb84392bf",
        "colab": {
          "base_uri": "https://localhost:8080/"
        }
      },
      "outputs": [
        {
          "output_type": "stream",
          "name": "stdout",
          "text": [
            "Running Apriori algorithm with min_support=0.1...\n",
            "\n",
            "Generating association rules with min_confidence=0.7...\n",
            "\n",
            "--- Top 5 Frequent Itemsets ---\n",
            "+-----------+---------------------------------------------------------------------+\n",
            "|   Support | Itemsets                                                            |\n",
            "+===========+=====================================================================+\n",
            "|      0.5  | Average Student Proficiency, ELA                                    |\n",
            "+-----------+---------------------------------------------------------------------+\n",
            "|      0.5  | Percentage of Students with 90%+ Attendance                         |\n",
            "+-----------+---------------------------------------------------------------------+\n",
            "|      0.5  | Average Student Proficiency, Math                                   |\n",
            "+-----------+---------------------------------------------------------------------+\n",
            "|      0.5  | Average Student Attendance                                          |\n",
            "+-----------+---------------------------------------------------------------------+\n",
            "|      0.46 | Average Student Proficiency, Math, Average Student Proficiency, ELA |\n",
            "+-----------+---------------------------------------------------------------------+\n",
            "\n",
            "--- Top Association Rules ---\n",
            "+-------------------------------+-------------------------------+--------------+\n",
            "| Antecedents                   | Consequents                   | Confidence   |\n",
            "+===============================+===============================+==============+\n",
            "| Regents Algebra I             | Regents English               | 98%          |\n",
            "+-------------------------------+-------------------------------+--------------+\n",
            "| Regents English               | Regents Algebra I             | 99%          |\n",
            "+-------------------------------+-------------------------------+--------------+\n",
            "| Attendance + Math Proficiency | ELA Proficiency               | 91%          |\n",
            "+-------------------------------+-------------------------------+--------------+\n",
            "| ELA Proficiency               | Attendance + Math Proficiency | 90%          |\n",
            "+-------------------------------+-------------------------------+--------------+\n",
            "| Math + ELA Proficiency        | Attendance                    | 90%          |\n",
            "+-------------------------------+-------------------------------+--------------+\n",
            "\n",
            "\n",
            "Total Frequent Itemsets: 18\n",
            "Total Association Rules: 52\n"
          ]
        }
      ],
      "execution_count": null
    },
    {
      "cell_type": "markdown",
      "source": [
        "## **Interpretation**\n",
        "- **Frequent Itemsets**:\n",
        "  - High proficiency in Math and ELA frequently co-occurs (50% support).\n",
        "  - Core Regents subjects (Algebra I and English) co-occur in one-third of schools.\n",
        "- **Association Rules**:\n",
        "  - High attendance correlates with strong performance in Math and ELA.\n",
        "  - Schools excelling in one Regents subject are highly likely to excel in another.-"
      ],
      "metadata": {
        "id": "EZrGUicfu1hH"
      }
    },
    {
      "cell_type": "markdown",
      "source": [
        "## Conclusion\n",
        "Our analysis reveals actionable insights:\n",
        "1. **Attendance Matters**: Policies targeting attendance can boost performance across subjects.\n",
        "2. **Align Subject Strategies**: Coordinated teaching approaches for Regents Algebra I and English can improve outcomes.\n",
        "3. **Balanced Programs**: Supporting both Math and ELA proficiency fosters overall academic success."
      ],
      "metadata": {
        "id": "seTp9lk-u1hH"
      }
    }
  ]
}