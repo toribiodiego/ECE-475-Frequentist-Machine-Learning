{
  "nbformat": 4,
  "nbformat_minor": 0,
  "metadata": {
    "colab": {
      "provenance": []
    },
    "kernelspec": {
      "name": "python3",
      "display_name": "Python 3"
    },
    "language_info": {
      "name": "python"
    }
  },
  "cells": [
    {
      "cell_type": "markdown",
      "source": [
        "Diego Toribio <br>\n",
        "Professor Sam Keene <br>\n",
        "Frequentist Machine Learning <br>\n",
        "Project 3: Model Assessment and Validation"
      ],
      "metadata": {
        "id": "U208pcByDBuI"
      }
    },
    {
      "cell_type": "code",
      "execution_count": null,
      "metadata": {
        "id": "0pn74UxTPNY6"
      },
      "outputs": [],
      "source": [
        "import numpy as np\n",
        "import matplotlib.pyplot as plt\n",
        "from scipy.stats import pearsonr\n",
        "import scipy.sparse.linalg\n",
        "from sklearn.neighbors import KNeighborsClassifier as KNN"
      ]
    },
    {
      "cell_type": "markdown",
      "source": [
        "Data Prep"
      ],
      "metadata": {
        "id": "00oSny36vVlg"
      }
    },
    {
      "cell_type": "code",
      "source": [
        "np.random.seed(13)\n",
        "\n",
        "# Parameters\n",
        "N = 50        # Samples\n",
        "p = 5000      # Original predictors\n",
        "K = 6         # Folds\n",
        "H = 100       # Best predictors\n",
        "nn = 1        # 1-nearest neighbors\n",
        "\n",
        "# Dataset\n",
        "X = np.random.randn(N, p)\n",
        "y = np.random.rand(1, N)\n",
        "Y = np.where(y > 0.5, 1, 0).flatten()\n",
        "\n",
        "print(X.shape, Y.shape)"
      ],
      "metadata": {
        "colab": {
          "base_uri": "https://localhost:8080/"
        },
        "id": "WBfnmNJu68Nq",
        "outputId": "65a75f58-6387-46b5-836b-f5450a5108ee"
      },
      "execution_count": null,
      "outputs": [
        {
          "output_type": "stream",
          "name": "stdout",
          "text": [
            "(50, 5000) (50,)\n"
          ]
        }
      ]
    },
    {
      "cell_type": "markdown",
      "source": [
        "Wrong Way:\n",
        "\n",
        "This is the wrong way because"
      ],
      "metadata": {
        "id": "rzwKJs63nNNJ"
      }
    },
    {
      "cell_type": "code",
      "source": [
        "# Reduce Data Points to Best Predictors\n",
        "corr_xy = Y @ X\n",
        "best = np.argsort(corr_xy)[-H:][::-1]\n",
        "X_best = X[:, best]\n",
        "\n",
        "print(X_best.shape)"
      ],
      "metadata": {
        "colab": {
          "base_uri": "https://localhost:8080/"
        },
        "id": "knh2DcQYu26_",
        "outputId": "5f535cef-3c59-402e-fff9-41f9df3bbdc8"
      },
      "execution_count": null,
      "outputs": [
        {
          "output_type": "stream",
          "name": "stdout",
          "text": [
            "(50, 100)\n"
          ]
        }
      ]
    },
    {
      "cell_type": "code",
      "source": [
        "corr_xy = Y @ X\n",
        "\n",
        "best = np.argsort(corr_xy)[-H:][::-1]\n",
        "\n",
        "num_samples_per_fold = N // K\n",
        "errors = []\n",
        "\n",
        "for i in range(K):\n",
        "    # Calculate the start and end indices for the current fold\n",
        "    start_val = i * num_samples_per_fold\n",
        "    end_val = start_val + num_samples_per_fold\n",
        "    if i == K-1:\n",
        "        end_val = N\n",
        "\n",
        "    # Split Data\n",
        "    X_val = X_best[start_val:end_val]\n",
        "    Y_val = Y[start_val:end_val]\n",
        "    X_train = np.concatenate([X_best[:start_val], X_best[end_val:]])\n",
        "    Y_train = np.concatenate([Y[:start_val], Y[end_val:]])\n",
        "\n",
        "    # Train\n",
        "    knn = KNN(n_neighbors=1)\n",
        "    knn.fit(X_train, Y_train)\n",
        "\n",
        "    # Validate\n",
        "    accuracy = knn.score(X_val, Y_val)\n",
        "    error = 1 - accuracy\n",
        "    errors.append(error)\n",
        "\n",
        "# Calculate the average percent error\n",
        "average_percent_error = np.mean(errors) * 100\n",
        "print(\"Average percent error: {:.2f}%\".format(average_percent_error))"
      ],
      "metadata": {
        "colab": {
          "base_uri": "https://localhost:8080/"
        },
        "id": "wKg-4lMI7e57",
        "outputId": "213131e3-0aaa-44f0-a650-ca1385e06354"
      },
      "execution_count": null,
      "outputs": [
        {
          "output_type": "stream",
          "name": "stdout",
          "text": [
            "Average percent error: 9.17%\n"
          ]
        }
      ]
    },
    {
      "cell_type": "markdown",
      "source": [
        "Right Way: \\\\\n",
        "\n",
        "This is the right way because"
      ],
      "metadata": {
        "id": "bjK6lKrnnOpz"
      }
    },
    {
      "cell_type": "code",
      "source": [
        "Num_samp = int(N / K)\n",
        "correct = []\n",
        "\n",
        "for i in range(K):\n",
        "    # Split Data\n",
        "    X_val = X[i * Num_samp:(i + 1) * Num_samp, :]\n",
        "    Y_val = Y[i * Num_samp:(i + 1) * Num_samp]\n",
        "    X_train = np.concatenate([X[:i * Num_samp, :], X[(i + 1) * Num_samp:, :]], axis=0)\n",
        "    Y_train = np.concatenate([Y[:i * Num_samp], Y[(i + 1) * Num_samp:]])\n",
        "\n",
        "    # Compute raw scores using matrix multiplication\n",
        "    corr_xy = X_train.T @ Y_train\n",
        "\n",
        "    # Select indices of the highest correlated predictors\n",
        "    best = np.argsort(np.abs(corr_xy))[-H:]\n",
        "\n",
        "    # Subset the training and validation data to include only these features\n",
        "    X_train_mx = X_train[:, best]\n",
        "    X_val_mx = X_val[:, best]\n",
        "\n",
        "    # Train a K-Nearest Neighbors classifier\n",
        "    knn = KNN(n_neighbors=1)\n",
        "    knn.fit(X_train_mx, Y_train)\n",
        "\n",
        "    # Evaluate the classifier on the validation set\n",
        "    accuracy = knn.score(X_val_mx, Y_val)\n",
        "    correct.append(accuracy)\n",
        "\n",
        "# Calculate the average error rate\n",
        "error_rate = (1 - np.mean(correct)) * 100\n",
        "\n",
        "# Print the error rate\n",
        "print(f'Percent error: {error_rate:.2f}%')"
      ],
      "metadata": {
        "colab": {
          "base_uri": "https://localhost:8080/"
        },
        "id": "CQO7Gjz-7J_4",
        "outputId": "e5b98f07-c28d-444e-c13a-d699aa36300c"
      },
      "execution_count": null,
      "outputs": [
        {
          "output_type": "stream",
          "name": "stdout",
          "text": [
            "Percent error: 47.92%\n"
          ]
        }
      ]
    }
  ]
}